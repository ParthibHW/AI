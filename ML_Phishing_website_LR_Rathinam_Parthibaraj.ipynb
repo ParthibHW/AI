{
  "nbformat": 4,
  "nbformat_minor": 0,
  "metadata": {
    "colab": {
      "name": "ML-Phishing website LR-Rathinam Parthibaraj.ipynb",
      "version": "0.3.2",
      "provenance": [],
      "include_colab_link": true
    },
    "kernelspec": {
      "name": "python3",
      "display_name": "Python 3"
    }
  },
  "cells": [
    {
      "cell_type": "markdown",
      "metadata": {
        "id": "view-in-github",
        "colab_type": "text"
      },
      "source": [
        "<a href=\"https://colab.research.google.com/github/ParthibHW/AI/blob/Projects/ML_Phishing_website_LR_Rathinam_Parthibaraj.ipynb\" target=\"_parent\"><img src=\"https://colab.research.google.com/assets/colab-badge.svg\" alt=\"Open In Colab\"/></a>"
      ]
    },
    {
      "metadata": {
        "id": "sGa0qKXxrdU8",
        "colab_type": "text"
      },
      "cell_type": "markdown",
      "source": [
        "# **Linear Regression (Phishing Dataset)**"
      ]
    },
    {
      "metadata": {
        "id": "vDNFYUphrnoJ",
        "colab_type": "text"
      },
      "cell_type": "markdown",
      "source": [
        "## **Import modules**"
      ]
    },
    {
      "metadata": {
        "id": "_yARTIjmrLw2",
        "colab_type": "code",
        "colab": {}
      },
      "cell_type": "code",
      "source": [
        "from sklearn import datasets\n",
        "import numpy as np\n",
        "from sklearn.model_selection import train_test_split\n",
        "from sklearn.preprocessing import StandardScaler\n",
        "from sklearn.neighbors import KNeighborsClassifier\n",
        "from sklearn.linear_model import LinearRegression\n",
        "from sklearn.linear_model import LogisticRegression\n",
        "from sklearn.metrics import accuracy_score"
      ],
      "execution_count": 0,
      "outputs": []
    },
    {
      "metadata": {
        "id": "B3WpPJz9rx7H",
        "colab_type": "code",
        "colab": {}
      },
      "cell_type": "code",
      "source": [
        "#load dataset\n",
        "phishing = np.loadtxt('phishing.txt', delimiter=',')"
      ],
      "execution_count": 0,
      "outputs": []
    },
    {
      "metadata": {
        "id": "DqJJcaEIsTy2",
        "colab_type": "code",
        "colab": {
          "base_uri": "https://localhost:8080/",
          "height": 34
        },
        "outputId": "7ad227f9-2e79-4ac7-95e6-c1f2eb814cda"
      },
      "cell_type": "code",
      "source": [
        "#X = phishing[:, [1, 5]]\n",
        "X = phishing[:, 0:30]\n",
        "y = phishing[:,30:31]\n",
        "print('Class labels:', np.unique(y))\n",
        "\n",
        "\n",
        "# Splitting data into 70% training and 30% test data:\n",
        "X_train, X_test, y_train, y_test = train_test_split(X,y, test_size=0.3,\n",
        "                                                    random_state=1, stratify=y)\n",
        "y_train = np.array(y_train.ravel())\n",
        "y_test = np.array(y_test.ravel())\n"
      ],
      "execution_count": 3,
      "outputs": [
        {
          "output_type": "stream",
          "text": [
            "Class labels: [-1.  1.]\n"
          ],
          "name": "stdout"
        }
      ]
    },
    {
      "metadata": {
        "id": "zkFoIlwxsy0-",
        "colab_type": "code",
        "colab": {
          "base_uri": "https://localhost:8080/",
          "height": 105
        },
        "outputId": "e5218f08-a04e-46a1-878b-c54ef891a815"
      },
      "cell_type": "code",
      "source": [
        "#from sklearn.linear_model import LogisticRegression\n",
        "\n",
        "from sklearn.linear_model import LogisticRegression\n",
        "\n",
        "logreg = LogisticRegression(C=100)\n",
        "logreg.fit(X_train,y_train)\n",
        "y_pred = logreg.predict(X_test)\n",
        "\n",
        "print('Misclassified samples: %d' % (y_test != y_pred).sum())\n",
        "print('Accuracy: %.2f' % accuracy_score(y_test, y_pred))\n",
        "#print('Accuracy: %.2f' % accuracy_score(X_test, y_test))"
      ],
      "execution_count": 10,
      "outputs": [
        {
          "output_type": "stream",
          "text": [
            "/usr/local/lib/python3.6/dist-packages/sklearn/linear_model/logistic.py:433: FutureWarning: Default solver will be changed to 'lbfgs' in 0.22. Specify a solver to silence this warning.\n",
            "  FutureWarning)\n"
          ],
          "name": "stderr"
        },
        {
          "output_type": "stream",
          "text": [
            "Misclassified samples: 249\n",
            "Accuracy: 0.92\n"
          ],
          "name": "stdout"
        }
      ]
    }
  ]
}